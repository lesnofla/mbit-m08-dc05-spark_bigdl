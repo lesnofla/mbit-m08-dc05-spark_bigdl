{
  "nbformat": 4,
  "nbformat_minor": 0,
  "metadata": {
    "kernelspec": {
      "display_name": "Python 3",
      "language": "python",
      "name": "python3"
    },
    "language_info": {
      "codemirror_mode": {
        "name": "ipython",
        "version": 3
      },
      "file_extension": ".py",
      "mimetype": "text/x-python",
      "name": "python",
      "nbconvert_exporter": "python",
      "pygments_lexer": "ipython3",
      "version": "3.5.4"
    },
    "colab": {
      "name": "Predecir el precio de la vivienda - Solución.ipynb",
      "provenance": [],
      "collapsed_sections": []
    }
  },
  "cells": [
    {
      "cell_type": "markdown",
      "metadata": {
        "id": "kCF7FB8dWoaS",
        "colab_type": "text"
      },
      "source": [
        "# Predicción del precio de casas de Boston\n",
        "\n",
        "Intentaremos predecir el precio mediano de las viviendas en un barrio de Boston a mediados de la década de 1970, partiendo de una variedad de datos sobre el el barrio en el momento, como la tasa de criminalidad, la tasa de impuesto a la propiedad, etc.\n",
        "\n",
        "El conjunto de datos que usaremos es pequeña, 506 muestras en total. Debemos estar atentos, ya que hay valores discretos y continuos (como la criminalidad)."
      ]
    },
    {
      "cell_type": "markdown",
      "metadata": {
        "id": "zfrSOiiiDFKl",
        "colab_type": "text"
      },
      "source": [
        "Los datos contienen 13 características a partir de las cuales deberíamos ser capaces de poder predecir el precio de cada vivienda. Las características son:\n",
        "\n",
        "1. Ratio de crimen per cápita.\n",
        "\n",
        "2. Proporción de tierra residencial dividida en zonas de más de 25.000 pies cuadrados.\n",
        "3. Proporción de acres de negocios no minoristas por ciudad.\n",
        "4. Variable ficticia de Charles River (= 1 si limita con el río; 0 en caso contrario).\n",
        "5. Concentración de óxidos nítricos (partes por 10 millones).\n",
        "6. Número promedio de habitaciones por vivienda.\n",
        "7. Proporción de unidades ocupadas por sus propietarios y construídas antes de 1940.\n",
        "8. Distancias ponderadas a cinco centros de empleo de Boston.\n",
        "9. Índice de accesibilidad a carreteras radiales.\n",
        "10. Tasa de impuesto a la propiedad de valor total por $10,000.\n",
        "11. Relación alumno-profesor por localidad.\n",
        "12. 1000 * (Bk - 0.63) ** 2 donde Bk es la proporción de personas negras por pueblo.\n",
        "13. % de población de un estatus bajo."
      ]
    },
    {
      "cell_type": "code",
      "metadata": {
        "id": "KmKVDNcfj9XK",
        "colab_type": "code",
        "colab": {}
      },
      "source": [
        "! pip install analytics-zoo\n",
        "! sudo apt install openjdk-8-jdk\n",
        "! echo \"2\" | sudo update-alternatives --config java"
      ],
      "execution_count": null,
      "outputs": []
    },
    {
      "cell_type": "code",
      "metadata": {
        "id": "M86KWgPnlMmF",
        "colab_type": "code",
        "colab": {
          "base_uri": "https://localhost:8080/",
          "height": 70
        },
        "outputId": "30af2f93-001b-44ba-9ef5-ed47b1b2dd6c"
      },
      "source": [
        "from zoo.common.nncontext import *\n",
        "sc = init_nncontext(init_spark_conf().setMaster(\"local[4]\"))"
      ],
      "execution_count": null,
      "outputs": [
        {
          "output_type": "stream",
          "text": [
            "Prepending /usr/local/lib/python3.6/dist-packages/bigdl/share/conf/spark-bigdl.conf to sys.path\n",
            "Adding /usr/local/lib/python3.6/dist-packages/zoo/share/lib/analytics-zoo-bigdl_0.10.0-spark_2.4.3-0.8.1-jar-with-dependencies.jar to BIGDL_JARS\n",
            "Prepending /usr/local/lib/python3.6/dist-packages/zoo/share/conf/spark-analytics-zoo.conf to sys.path\n"
          ],
          "name": "stdout"
        }
      ]
    },
    {
      "cell_type": "code",
      "metadata": {
        "id": "q1fTd4IuWoaZ",
        "colab_type": "code",
        "colab": {
          "base_uri": "https://localhost:8080/",
          "height": 52
        },
        "outputId": "40882e14-2048-4dac-a12f-4112aa8efd30"
      },
      "source": [
        "from zoo.pipeline.api.keras.datasets import boston_housing\n",
        "(train_data, train_targets), (test_data, test_targets) =  boston_housing.load_data()"
      ],
      "execution_count": null,
      "outputs": [
        {
          "output_type": "stream",
          "text": [
            "Downloading data from https://s3.amazonaws.com/keras-datasets/boston_housing.npz\n",
            "24576/57026 [===========>..................] - ETA: 0sSuccessfully downloaded boston_housing.npz 57026 bytes.\n"
          ],
          "name": "stdout"
        }
      ]
    },
    {
      "cell_type": "code",
      "metadata": {
        "id": "T-szVO5mYyr9",
        "colab_type": "code",
        "colab": {
          "base_uri": "https://localhost:8080/",
          "height": 35
        },
        "outputId": "921f1505-ac46-41ba-9bc6-964f31287855"
      },
      "source": [
        "train_data.shape"
      ],
      "execution_count": null,
      "outputs": [
        {
          "output_type": "execute_result",
          "data": {
            "text/plain": [
              "(404, 13)"
            ]
          },
          "metadata": {
            "tags": []
          },
          "execution_count": 4
        }
      ]
    },
    {
      "cell_type": "code",
      "metadata": {
        "id": "ozUvTVrCEXVs",
        "colab_type": "code",
        "colab": {
          "base_uri": "https://localhost:8080/",
          "height": 35
        },
        "outputId": "9eae59a3-6bc1-4fa0-ecf2-137623c4b261"
      },
      "source": [
        "test_data.shape"
      ],
      "execution_count": null,
      "outputs": [
        {
          "output_type": "execute_result",
          "data": {
            "text/plain": [
              "(102, 13)"
            ]
          },
          "metadata": {
            "tags": []
          },
          "execution_count": 5
        }
      ]
    },
    {
      "cell_type": "code",
      "metadata": {
        "id": "vk2TIF6wEY83",
        "colab_type": "code",
        "colab": {
          "base_uri": "https://localhost:8080/",
          "height": 675
        },
        "outputId": "2ac2445f-5a39-4dc6-d286-7472474470c9"
      },
      "source": [
        "train_targets"
      ],
      "execution_count": null,
      "outputs": [
        {
          "output_type": "execute_result",
          "data": {
            "text/plain": [
              "array([22.6, 50. , 23. ,  8.3, 21.2, 19.9, 20.6, 18.7, 16.1, 18.6,  8.8,\n",
              "       17.2, 14.9, 10.5, 50. , 29. , 23. , 33.3, 29.4, 21. , 23.8, 19.1,\n",
              "       20.4, 29.1, 19.3, 23.1, 19.6, 19.4, 38.7, 18.7, 14.6, 20. , 20.5,\n",
              "       20.1, 23.6, 16.8,  5.6, 50. , 14.5, 13.3, 23.9, 20. , 19.8, 13.8,\n",
              "       16.5, 21.6, 20.3, 17. , 11.8, 27.5, 15.6, 23.1, 24.3, 42.8, 15.6,\n",
              "       21.7, 17.1, 17.2, 15. , 21.7, 18.6, 21. , 33.1, 31.5, 20.1, 29.8,\n",
              "       15.2, 15. , 27.5, 22.6, 20. , 21.4, 23.5, 31.2, 23.7,  7.4, 48.3,\n",
              "       24.4, 22.6, 18.3, 23.3, 17.1, 27.9, 44.8, 50. , 23. , 21.4, 10.2,\n",
              "       23.3, 23.2, 18.9, 13.4, 21.9, 24.8, 11.9, 24.3, 13.8, 24.7, 14.1,\n",
              "       18.7, 28.1, 19.8, 26.7, 21.7, 22. , 22.9, 10.4, 21.9, 20.6, 26.4,\n",
              "       41.3, 17.2, 27.1, 20.4, 16.5, 24.4,  8.4, 23. ,  9.7, 50. , 30.5,\n",
              "       12.3, 19.4, 21.2, 20.3, 18.8, 33.4, 18.5, 19.6, 33.2, 13.1,  7.5,\n",
              "       13.6, 17.4,  8.4, 35.4, 24. , 13.4, 26.2,  7.2, 13.1, 24.5, 37.2,\n",
              "       25. , 24.1, 16.6, 32.9, 36.2, 11. ,  7.2, 22.8, 28.7, 14.4, 24.4,\n",
              "       18.1, 22.5, 20.5, 15.2, 17.4, 13.6,  8.7, 18.2, 35.4, 31.7, 33. ,\n",
              "       22.2, 20.4, 23.9, 25. , 12.7, 29.1, 12. , 17.7, 27. , 20.6, 10.2,\n",
              "       17.5, 19.7, 29.8, 20.5, 14.9, 10.9, 19.5, 22.7, 19.5, 24.6, 25. ,\n",
              "       24.5, 50. , 14.3, 11.8, 31. , 28.7, 16.2, 43.5, 25. , 22. , 19.9,\n",
              "       22.1, 46. , 22.9, 20.2, 43.1, 34.6, 13.8, 24.3, 21.5, 24.4, 21.2,\n",
              "       23.8, 26.6, 25.1,  9.6, 19.4, 19.4,  9.5, 14. , 26.5, 13.8, 34.7,\n",
              "       16.3, 21.7, 17.5, 15.6, 20.9, 21.7, 12.7, 18.5, 23.7, 19.3, 12.7,\n",
              "       21.6, 23.2, 29.6, 21.2, 23.8, 17.1, 22. , 36.5, 18.8, 21.9, 23.1,\n",
              "       20.2, 17.4, 37. , 24.1, 36.2, 15.7, 32.2, 13.5, 17.9, 13.3, 11.7,\n",
              "       41.7, 18.4, 13.1, 25. , 21.2, 16. , 34.9, 25.2, 24.8, 21.5, 23.4,\n",
              "       18.9, 10.8, 21. , 27.5, 17.5, 13.5, 28.7, 14.8, 19.1, 28.6, 13.1,\n",
              "       19. , 11.3, 13.3, 22.4, 20.1, 18.2, 22.9, 20.6, 25. , 12.8, 34.9,\n",
              "       23.7, 50. , 29. , 30.1, 22. , 15.6, 23.3, 30.1, 14.3, 22.8, 50. ,\n",
              "       20.8,  6.3, 34.9, 32.4, 19.9, 20.3, 17.8, 23.1, 20.4, 23.2,  7. ,\n",
              "       16.8, 46.7, 50. , 22.9, 23.9, 21.4, 21.7, 15.4, 15.3, 23.1, 23.9,\n",
              "       19.4, 11.9, 17.8, 31.5, 33.8, 20.8, 19.8, 22.4,  5. , 24.5, 19.4,\n",
              "       15.1, 18.2, 19.3, 27.1, 20.7, 37.6, 11.7, 33.4, 30.1, 21.4, 45.4,\n",
              "       20.1, 20.8, 26.4, 10.4, 21.8, 32. , 21.7, 18.4, 37.9, 17.8, 28. ,\n",
              "       28.2, 36. , 18.9, 15. , 22.5, 30.7, 20. , 19.1, 23.3, 26.6, 21.1,\n",
              "       19.7, 20. , 12.1,  7.2, 14.2, 17.3, 27.5, 22.2, 10.9, 19.2, 32. ,\n",
              "       14.5, 24.7, 12.6, 24. , 24.1, 50. , 16.1, 43.8, 26.6, 36.1, 21.8,\n",
              "       29.9, 50. , 44. , 20.6, 19.6, 28.4, 19.1, 22.3, 20.9, 28.4, 14.4,\n",
              "       32.7, 13.8,  8.5, 22.5, 35.1, 31.6, 17.8, 15.6])"
            ]
          },
          "metadata": {
            "tags": []
          },
          "execution_count": 6
        }
      ]
    },
    {
      "cell_type": "markdown",
      "metadata": {
        "id": "TTl5mwsEWoa0",
        "colab_type": "text"
      },
      "source": [
        "## Preparamos los datos\n",
        "\n",
        "Estandarizamos los datos para centrarlos alrededor del 0"
      ]
    },
    {
      "cell_type": "code",
      "metadata": {
        "id": "KgYI-BRYEiQG",
        "colab_type": "code",
        "colab": {}
      },
      "source": [
        "mean = train_data.mean(axis=0)\n",
        "train_data -= mean\n",
        "std = train_data.std(axis=0)\n",
        "train_data /= std\n",
        "\n",
        "test_data -= mean\n",
        "test_data /= std"
      ],
      "execution_count": null,
      "outputs": []
    },
    {
      "cell_type": "code",
      "metadata": {
        "id": "ZH4Ahm456GjQ",
        "colab_type": "code",
        "colab": {
          "base_uri": "https://localhost:8080/",
          "height": 479
        },
        "outputId": "183604e3-ac5c-466b-f6d5-f6b39593e63d"
      },
      "source": [
        "print(train_data)\n",
        "print(test_data)"
      ],
      "execution_count": null,
      "outputs": [
        {
          "output_type": "stream",
          "text": [
            "[[-0.40241083 -0.48917404 -1.17629455 ... -0.7163786   0.20831263\n",
            "  -0.75004698]\n",
            " [ 0.61863723 -0.48917404  1.04403852 ...  0.82605672  0.1090616\n",
            "  -0.44090876]\n",
            " [-0.39717361 -0.48917404  0.41499396 ... -0.95008092  0.41130618\n",
            "  -0.30398452]\n",
            " ...\n",
            " [-0.36395996 -0.48917404 -0.73402093 ... -0.48267628  0.17402392\n",
            "  -0.8883828 ]\n",
            " [-0.15021417 -0.48917404  1.26517533 ... -1.74466881  0.00871508\n",
            "   2.21146895]\n",
            " [ 0.04657554 -0.48917404  1.26517533 ... -1.74466881  0.44592354\n",
            "   1.94326684]]\n",
            "[[-0.40573743 -0.48917404 -0.88493186 ...  0.82605672  0.36376209\n",
            "  -0.83333079]\n",
            " [-0.40256235 -0.48917404 -1.29283962 ... -0.29571442  0.43124403\n",
            "  -0.718992  ]\n",
            " [ 0.59085911 -0.48917404  1.04403852 ...  0.82605672  0.23591887\n",
            "   0.69824442]\n",
            " ...\n",
            " [-0.39308165 -0.48917404 -0.16474307 ... -0.29571442  0.41974142\n",
            "  -0.33221632]\n",
            " [-0.38435962 -0.48917404 -0.62793503 ... -0.24897396  0.40035132\n",
            "   0.86763522]\n",
            " [-0.3944007  -0.48917404 -1.05526697 ... -0.85659999  0.44592354\n",
            "   0.28747171]]\n"
          ],
          "name": "stdout"
        }
      ]
    },
    {
      "cell_type": "markdown",
      "metadata": {
        "id": "T_wBZssQWoa5",
        "colab_type": "text"
      },
      "source": [
        "**Tengamos en cuenta que las cantidades que usamos para estandarizar los datos de test se han calculado utilizando los datos de entrenamiento. Nunca debemos usar en nuestro\n",
        "flujo de trabajo cualquier cantidad calculada en los datos de prueba, incluso para algo tan simple como la estandarización de datos.**"
      ]
    },
    {
      "cell_type": "markdown",
      "metadata": {
        "id": "mMcvvu_eWoa7",
        "colab_type": "text"
      },
      "source": [
        "## Creamos nuestra red\n",
        "\n",
        "Debido a que tenemos pocas muestras, usaremos una red pequeña con 2 capas ocultas de 6 neuronas cada una. En general, cuanto menos muestras de entrenamiento se tiene, más fácil es hacer overfitting. Para evitarlo, utilizar una red pequeña suele ser una buena opción."
      ]
    },
    {
      "cell_type": "code",
      "metadata": {
        "id": "NiUr2P-wEjpt",
        "colab_type": "code",
        "colab": {}
      },
      "source": [
        "from zoo.pipeline.api.keras import models\n",
        "from zoo.pipeline.api.keras import layers\n",
        "\n",
        "def build_model():\n",
        "    # Because we will need to instantiate\n",
        "    # the same model multiple times,\n",
        "    # we use a function to construct it.\n",
        "    model = models.Sequential()\n",
        "    model.add(layers.Dense(64, activation='relu',\n",
        "                           input_shape=(train_data.shape[1],)))\n",
        "    model.add(layers.Dense(64, activation='relu'))\n",
        "    model.add(layers.Dense(1))\n",
        "    model.compile(optimizer='rmsprop', loss='mse', metrics=['mae'])\n",
        "    return model"
      ],
      "execution_count": null,
      "outputs": []
    },
    {
      "cell_type": "markdown",
      "metadata": {
        "id": "YzhiErAGWoa_",
        "colab_type": "text"
      },
      "source": [
        "Nuestra red termina con una sola unidad y sin activación (es decir, será una capa lineal).\n",
        "Esta es una configuración típica para la regresión escalar (es decir, regresión en la que estamos tratando de predecir un solo valor continuo). Aplicar una función de activación restringiría el rango que puede tomar la salida; por ejemplo si aplicamos una función de activación sigmoide a nuestra última capa, la red solo podía aprender a predecir valores entre 0 y 1. Aquí, porque la última capa es puramente lineal, la red es libre de aprender a predecir valores en cualquier rango.\n",
        "\n",
        "Estamos compilando la red con la función de pérdida mse - Error cuadrático medio, el cuadrado de la diferencia entre predicciones y valores reales, una función de pérdida ampliamente utilizada para problemas de regresión.\n",
        "\n",
        "También estamos trabajando con una nueva métrica durante el entrenamiento: mae. Esto significa Error absoluto medio. Es simplemente el valor absoluto de la\n",
        "diferencia entre las predicciones y los objetivos. Por ejemplo, un MAE de 0.5 en este problema significaría que nuestras predicciones se desvían $500 de media."
      ]
    },
    {
      "cell_type": "markdown",
      "metadata": {
        "id": "m-ott6NlWobA",
        "colab_type": "text"
      },
      "source": [
        "## Validando nuestro enfoque usando K-fold cross-validation\n",
        "\n",
        "Para evaluar nuestra red mientras seguimos ajustando sus parámetros (como el número de epochs utilizados para el entrenamiento), simplemente podríamos dividir los datos en un conjunto de entrenamiento y un conjunto de validación. Sin embargo, debido a que tenemos tan pocos datos, el conjunto de validación terminaría siendo muy pequeño (por ejemplo, alrededor de 100 ejemplos). Una consecuencia de esto es que nuestros puntajes de validación pueden cambiar mucho dependiendo de qué muestras elegimos usar para la validación y cuáles elegimos para el entrenamiento, es decir, las etiquetas de entrenamiento pueden tener una alta varianza con respecto a las etiquetas de validación. Esto nos daría un modelo entrenado poco fiable.\n",
        "\n",
        "La mejor práctica en tales situaciones es usar K-fold cross-validation. Consiste en dividir los datos disponibles en particiones K (típicamente K = 4 o 5), luego instanciar K modelos idénticos y entrenar a cada uno en particiones K-1. El score de validación para el modelo utilizado sería el promedio de K scores obtenidos."
      ]
    },
    {
      "cell_type": "code",
      "metadata": {
        "id": "rht55dq8Ewsb",
        "colab_type": "code",
        "colab": {
          "base_uri": "https://localhost:8080/",
          "height": 586
        },
        "outputId": "46a47e7b-50cc-49d4-a85f-7d621f6f941a"
      },
      "source": [
        "import numpy as np\n",
        "\n",
        "k = 4\n",
        "num_val_samples = len(train_data) // k\n",
        "num_nb_epoch = 50\n",
        "all_scores = []\n",
        "for i in range(k):\n",
        "    print('processing fold #', i)\n",
        "    # Prepare the validation data: data from partition # k\n",
        "    val_data = train_data[i * num_val_samples: (i + 1) * num_val_samples]\n",
        "    val_targets = train_targets[i * num_val_samples: (i + 1) * num_val_samples]\n",
        "\n",
        "    # Prepare the training data: data from all other partitions\n",
        "    partial_train_data = np.concatenate(\n",
        "        [train_data[:i * num_val_samples],\n",
        "         train_data[(i + 1) * num_val_samples:]],\n",
        "        axis=0)\n",
        "    partial_train_targets = np.concatenate(\n",
        "        [train_targets[:i * num_val_samples],\n",
        "         train_targets[(i + 1) * num_val_samples:]],\n",
        "        axis=0)\n",
        "\n",
        "    # Build the model (already compiled)\n",
        "    model = build_model()\n",
        "    # Train the model\n",
        "    model.fit(partial_train_data, partial_train_targets,\n",
        "              nb_epoch=num_nb_epoch, batch_size=16) # verbose=0 si no queremos logs\n",
        "\n",
        "    # Evaluate the model on the validation data\n",
        "    val_mse, val_mae = model.evaluate(val_data, val_targets) # verbose=0 si no queremos logs\n",
        "    all_scores.append(val_mae)"
      ],
      "execution_count": null,
      "outputs": [
        {
          "output_type": "stream",
          "text": [
            "processing fold # 0\n",
            "creating: createZooKerasSequential\n",
            "creating: createZooKerasDense\n",
            "creating: createZooKerasDense\n",
            "creating: createZooKerasDense\n",
            "creating: createRMSprop\n",
            "creating: createZooKerasMeanSquaredError\n",
            "creating: createZooKerasMAE\n",
            "processing fold # 1\n",
            "creating: createZooKerasSequential\n",
            "creating: createZooKerasDense\n",
            "creating: createZooKerasDense\n",
            "creating: createZooKerasDense\n",
            "creating: createRMSprop\n",
            "creating: createZooKerasMeanSquaredError\n",
            "creating: createZooKerasMAE\n",
            "processing fold # 2\n",
            "creating: createZooKerasSequential\n",
            "creating: createZooKerasDense\n",
            "creating: createZooKerasDense\n",
            "creating: createZooKerasDense\n",
            "creating: createRMSprop\n",
            "creating: createZooKerasMeanSquaredError\n",
            "creating: createZooKerasMAE\n",
            "processing fold # 3\n",
            "creating: createZooKerasSequential\n",
            "creating: createZooKerasDense\n",
            "creating: createZooKerasDense\n",
            "creating: createZooKerasDense\n",
            "creating: createRMSprop\n",
            "creating: createZooKerasMeanSquaredError\n",
            "creating: createZooKerasMAE\n"
          ],
          "name": "stdout"
        }
      ]
    },
    {
      "cell_type": "code",
      "metadata": {
        "id": "YVs0LyzlE3IF",
        "colab_type": "code",
        "colab": {
          "base_uri": "https://localhost:8080/",
          "height": 34
        },
        "outputId": "f43639a8-2245-43c2-b5be-4e1b3b0afdf3"
      },
      "source": [
        "all_scores"
      ],
      "execution_count": null,
      "outputs": [
        {
          "output_type": "execute_result",
          "data": {
            "text/plain": [
              "[3.3052000999450684, 2.496307849884033, 2.425664186477661, 2.7723302841186523]"
            ]
          },
          "metadata": {
            "tags": []
          },
          "execution_count": 10
        }
      ]
    },
    {
      "cell_type": "code",
      "metadata": {
        "id": "ODCj26zwE5jU",
        "colab_type": "code",
        "colab": {
          "base_uri": "https://localhost:8080/",
          "height": 34
        },
        "outputId": "43c8a99f-eac6-4060-a5cb-33cd1ffcfc79"
      },
      "source": [
        "np.mean(all_scores)"
      ],
      "execution_count": null,
      "outputs": [
        {
          "output_type": "execute_result",
          "data": {
            "text/plain": [
              "2.7498756051063538"
            ]
          },
          "metadata": {
            "tags": []
          },
          "execution_count": 11
        }
      ]
    },
    {
      "cell_type": "markdown",
      "metadata": {
        "id": "Gm8A4fsFWobM",
        "colab_type": "text"
      },
      "source": [
        "Como puede observar, las diferentes ejecuciones muestran scores de validación bastante diferentes, de 3.3 a 2.4. Su media (2.7) es un valor más fiable que cualquiera de los scores de la lista, esa es la ventaja de K-fold cross validation. En este caso, estamos desviándonos \\\\$2.700 de media, que sigue siendo significativo considerando que los precios oscilan entre 10.000 y 50.000$ de media.\n",
        "\n",
        "Entrenemos la red un poco más: 500 epochs. Para mantener un registro de cómo funcionó el modelo en cada epoch, modificaremos nuestro ciclo de entrenamiento para guardar el registro de score de validación por epoch."
      ]
    },
    {
      "cell_type": "code",
      "metadata": {
        "id": "1Z_DvE4oE6yl",
        "colab_type": "code",
        "colab": {
          "base_uri": "https://localhost:8080/",
          "height": 554
        },
        "outputId": "08b2b31a-ccf6-40c4-c827-56c4f6596686"
      },
      "source": [
        "num_epochs = 500\n",
        "all_mae_histories = []\n",
        "for i in range(k):\n",
        "    print('processing fold #', i)\n",
        "    # Prepare the validation data: data from partition # k\n",
        "    val_data = train_data[i * num_val_samples: (i + 1) * num_val_samples]\n",
        "    val_targets = train_targets[i * num_val_samples: (i + 1) * num_val_samples]\n",
        "\n",
        "    # Prepare the training data: data from all other partitions\n",
        "    partial_train_data = np.concatenate(\n",
        "        [train_data[:i * num_val_samples],\n",
        "         train_data[(i + 1) * num_val_samples:]],\n",
        "        axis=0)\n",
        "    partial_train_targets = np.concatenate(\n",
        "        [train_targets[:i * num_val_samples],\n",
        "         train_targets[(i + 1) * num_val_samples:]],\n",
        "        axis=0)\n",
        "\n",
        "    # Build the model (already compiled)\n",
        "    model = build_model()\n",
        "    # Train the model (in silent mode, verbose=0)\n",
        "    import time\n",
        "    dir_name = '3-7 ' + str(time.ctime())\n",
        "    model.set_tensorboard('./', dir_name)\n",
        "    history = model.fit(partial_train_data, partial_train_targets,\n",
        "                        validation_data=(val_data, val_targets),\n",
        "                        nb_epoch=num_epochs, batch_size=16)\n",
        "    \n",
        "    #mae_history = history.history['val_mean_absolute_error']\n",
        "    mae_history = model.get_validation_summary(\"Loss\")\n",
        "    all_mae_histories.append(mae_history)"
      ],
      "execution_count": null,
      "outputs": [
        {
          "output_type": "stream",
          "text": [
            "processing fold # 0\n",
            "creating: createZooKerasSequential\n",
            "creating: createZooKerasDense\n",
            "creating: createZooKerasDense\n",
            "creating: createZooKerasDense\n",
            "creating: createRMSprop\n",
            "creating: createZooKerasMeanSquaredError\n",
            "creating: createZooKerasMAE\n",
            "processing fold # 1\n",
            "creating: createZooKerasSequential\n",
            "creating: createZooKerasDense\n",
            "creating: createZooKerasDense\n",
            "creating: createZooKerasDense\n",
            "creating: createRMSprop\n",
            "creating: createZooKerasMeanSquaredError\n",
            "creating: createZooKerasMAE\n",
            "processing fold # 2\n",
            "creating: createZooKerasSequential\n",
            "creating: createZooKerasDense\n",
            "creating: createZooKerasDense\n",
            "creating: createZooKerasDense\n",
            "creating: createRMSprop\n",
            "creating: createZooKerasMeanSquaredError\n",
            "creating: createZooKerasMAE\n",
            "processing fold # 3\n",
            "creating: createZooKerasSequential\n",
            "creating: createZooKerasDense\n",
            "creating: createZooKerasDense\n",
            "creating: createZooKerasDense\n",
            "creating: createRMSprop\n",
            "creating: createZooKerasMeanSquaredError\n",
            "creating: createZooKerasMAE\n"
          ],
          "name": "stdout"
        }
      ]
    },
    {
      "cell_type": "markdown",
      "metadata": {
        "id": "mdmc_JVCWobQ",
        "colab_type": "text"
      },
      "source": [
        "Calculamos el MAE de cada epoch."
      ]
    },
    {
      "cell_type": "code",
      "metadata": {
        "id": "KBdsPXFjE-O6",
        "colab_type": "code",
        "colab": {}
      },
      "source": [
        "all_mae_histories = np.array(all_mae_histories)\n",
        "average_mae_history = np.mean(all_mae_histories, axis=0)"
      ],
      "execution_count": null,
      "outputs": []
    },
    {
      "cell_type": "markdown",
      "metadata": {
        "id": "NiY23M6IdGUA",
        "colab_type": "text"
      },
      "source": [
        "### Mostramos resultados"
      ]
    },
    {
      "cell_type": "code",
      "metadata": {
        "id": "SWrBYhIBFBFb",
        "colab_type": "code",
        "colab": {
          "base_uri": "https://localhost:8080/",
          "height": 279
        },
        "outputId": "aaa88a14-64fb-41c5-9eeb-465eaed689df"
      },
      "source": [
        "import matplotlib.pyplot as plt\n",
        "plt.plot(average_mae_history[:,0],average_mae_history[:,1])\n",
        "plt.xlabel('Steps')\n",
        "plt.ylabel('Validation MAE')\n",
        "plt.ylim((14, 25))\n",
        "plt.show()"
      ],
      "execution_count": null,
      "outputs": [
        {
          "output_type": "display_data",
          "data": {
            "image/png": "[encoded data removed]",
            "text/plain": [
              "<Figure size 432x288 with 1 Axes>"
            ]
          },
          "metadata": {
            "tags": []
          }
        }
      ]
    },
    {
      "cell_type": "markdown",
      "metadata": {
        "id": "p_OtUA4QWobb",
        "colab_type": "text"
      },
      "source": [
        "Según esta gráfica, parece que el MAE deja de mejorar significativamente después de 150 epochs. Pasado ese punto, comenzamos a sobreajustar.\n",
        "\n",
        "Una vez que hayamos terminado de ajustar otros parámetros de nuestro modelo (además del número de epochs, también podríamos ajustar el tamaño de las capas ocultas), podemos entrenar un modelo final con todos los datos de entrenamiento."
      ]
    },
    {
      "cell_type": "code",
      "metadata": {
        "id": "v4Xk7C-yFHAb",
        "colab_type": "code",
        "colab": {
          "base_uri": "https://localhost:8080/",
          "height": 134
        },
        "outputId": "7e029dd2-2b20-44cb-d702-b762e1296196"
      },
      "source": [
        "# Get a fresh, compiled model.\n",
        "model = build_model()\n",
        "# Train it on the entirety of the data.\n",
        "model.fit(train_data, train_targets,\n",
        "          nb_epoch=150, batch_size=16)\n",
        "test_mse_score, test_mae_score = model.evaluate(test_data, test_targets)"
      ],
      "execution_count": null,
      "outputs": [
        {
          "output_type": "stream",
          "text": [
            "creating: createZooKerasSequential\n",
            "creating: createZooKerasDense\n",
            "creating: createZooKerasDense\n",
            "creating: createZooKerasDense\n",
            "creating: createRMSprop\n",
            "creating: createZooKerasMeanSquaredError\n",
            "creating: createZooKerasMAE\n"
          ],
          "name": "stdout"
        }
      ]
    },
    {
      "cell_type": "code",
      "metadata": {
        "id": "sREgEXx-FK6I",
        "colab_type": "code",
        "colab": {
          "base_uri": "https://localhost:8080/",
          "height": 34
        },
        "outputId": "0eb6c92e-6b05-40c0-9584-a0ee0e50e30d"
      },
      "source": [
        "test_mae_score"
      ],
      "execution_count": null,
      "outputs": [
        {
          "output_type": "execute_result",
          "data": {
            "text/plain": [
              "1.6815447807312012"
            ]
          },
          "metadata": {
            "tags": []
          },
          "execution_count": 16
        }
      ]
    },
    {
      "cell_type": "markdown",
      "metadata": {
        "id": "aUFuEfy4Wobj",
        "colab_type": "text"
      },
      "source": [
        "Nos desviamos unos $1.700."
      ]
    }
  ]
}